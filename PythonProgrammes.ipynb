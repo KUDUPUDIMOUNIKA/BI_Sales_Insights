{
  "nbformat": 4,
  "nbformat_minor": 0,
  "metadata": {
    "colab": {
      "provenance": [],
      "authorship_tag": "ABX9TyMiWovexJrR2u6djkyfjPEM",
      "include_colab_link": true
    },
    "kernelspec": {
      "name": "python3",
      "display_name": "Python 3"
    },
    "language_info": {
      "name": "python"
    }
  },
  "cells": [
    {
      "cell_type": "markdown",
      "metadata": {
        "id": "view-in-github",
        "colab_type": "text"
      },
      "source": [
        "<a href=\"https://colab.research.google.com/github/KUDUPUDIMOUNIKA/BI_Sales_Insights/blob/master/PythonProgrammes.ipynb\" target=\"_parent\"><img src=\"https://colab.research.google.com/assets/colab-badge.svg\" alt=\"Open In Colab\"/></a>"
      ]
    },
    {
      "cell_type": "code",
      "execution_count": null,
      "metadata": {
        "id": "T8R5x1FEchDi"
      },
      "outputs": [],
      "source": [
        "#finding maximum and minimum element in an array\n",
        "list1=list(map(int,input().split()))\n",
        "min_ele=list1[0]\n",
        "max_ele=list1[0]\n",
        "for i in list1:\n",
        "  if i>max_ele:\n",
        "    max_ele=i\n",
        "  if i<min_ele:\n",
        "    min_ele=i\n",
        "print(min_ele,max_ele)"
      ]
    },
    {
      "cell_type": "code",
      "source": [
        "#Reverse the array\n",
        "list1=list(map(int,input(\"enter array elements:\").split()))\n",
        "rev_array=list1[::-1]\n",
        "print(rev_array)"
      ],
      "metadata": {
        "id": "i8DWA30_cpRn"
      },
      "execution_count": null,
      "outputs": []
    },
    {
      "cell_type": "code",
      "source": [
        "#prime number programme\n",
        "num=int(input())\n",
        "for i in range(2,num):\n",
        "  if num%i==0:\n",
        "    print(\"not prime\")\n",
        "    break\n",
        "else:\n",
        "  print(\"prime\")"
      ],
      "metadata": {
        "id": "rAEaTsnWeJgO",
        "colab": {
          "base_uri": "https://localhost:8080/"
        },
        "outputId": "386db8a4-c510-48cc-eb78-b6fcda3148a5"
      },
      "execution_count": 2,
      "outputs": [
        {
          "output_type": "stream",
          "name": "stdout",
          "text": [
            "7\n",
            "prime\n"
          ]
        }
      ]
    },
    {
      "cell_type": "code",
      "source": [
        "print(17*17)"
      ],
      "metadata": {
        "colab": {
          "base_uri": "https://localhost:8080/"
        },
        "id": "OBkBEslxXyrW",
        "outputId": "6f73ac72-ca51-4655-c1a6-6419a2dab60a"
      },
      "execution_count": 3,
      "outputs": [
        {
          "output_type": "stream",
          "name": "stdout",
          "text": [
            "289\n"
          ]
        }
      ]
    }
  ]
}